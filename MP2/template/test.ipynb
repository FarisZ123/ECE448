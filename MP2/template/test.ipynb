{
 "cells": [
  {
   "cell_type": "code",
   "execution_count": null,
   "metadata": {},
   "outputs": [
    {
     "name": "stdout",
     "output_type": "stream",
     "text": [
      "[0.        2.0943951 4.1887902]\n"
     ]
    }
   ],
   "source": [
    "import numpy as np\n",
    "\n",
    "angles = np.linspace(0, 2 * np.pi, 3, endpoint=False)\n",
    "\n",
    "print(angles)\n",
    "\n",
    "\n",
    "\n",
    "\n",
    "\n",
    "\n",
    "    # for i in range(context_window[0], context_window[1]):\n",
    "    #     if i == t:\n",
    "    #         continue \n",
    "        \n",
    "    #     context_word = data[i]\n",
    "    #     context_embedding = embedding[context_word]\n",
    "\n",
    "    #     g += (1 - 1 / (1 + np.exp(-(np.dot(target_embedding, context_embedding))))) * context_embedding\n",
    "        \n",
    "\n",
    "    #     negative_samples = np.random.choice(list(embedding.keys()), size=k, replace=False)\n",
    "\n",
    "    #     for neg_word in negative_samples:\n",
    "    #         neg_embedding = embedding[neg_word]\n",
    "    #         g -= (1 - 1 / (1 + np.exp(-(np.dot(target_embedding, neg_embedding))))) * neg_embedding\n",
    "    \n",
    "    # return g"
   ]
  }
 ],
 "metadata": {
  "kernelspec": {
   "display_name": "Python 3",
   "language": "python",
   "name": "python3"
  },
  "language_info": {
   "codemirror_mode": {
    "name": "ipython",
    "version": 3
   },
   "file_extension": ".py",
   "mimetype": "text/x-python",
   "name": "python",
   "nbconvert_exporter": "python",
   "pygments_lexer": "ipython3",
   "version": "3.8.0"
  }
 },
 "nbformat": 4,
 "nbformat_minor": 2
}
